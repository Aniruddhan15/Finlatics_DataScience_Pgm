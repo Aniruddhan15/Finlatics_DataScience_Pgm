{
  "nbformat": 4,
  "nbformat_minor": 0,
  "metadata": {
    "colab": {
      "provenance": []
    },
    "kernelspec": {
      "name": "python3",
      "display_name": "Python 3"
    },
    "language_info": {
      "name": "python"
    }
  },
  "cells": [
    {
      "cell_type": "markdown",
      "source": [
        "# NAME: ANIRUDDHAN N\n",
        "# COURSE: FINLATICS DATA SCIENCE EXPERIENCE PROGRAM\n"
      ],
      "metadata": {
        "id": "2C5BuInFQJQu"
      }
    },
    {
      "cell_type": "markdown",
      "source": [
        "**Q1) Write a program that prompts the user to input a year, checks whether it's a leap year or not, and then prints the result.**"
      ],
      "metadata": {
        "id": "f9ZUJGHpLwf5"
      }
    },
    {
      "cell_type": "code",
      "execution_count": 2,
      "metadata": {
        "colab": {
          "base_uri": "https://localhost:8080/",
          "height": 0
        },
        "id": "7duwJI7ULpD4",
        "outputId": "d5848339-d5c3-40a1-d356-678b547e7606"
      },
      "outputs": [
        {
          "output_type": "stream",
          "name": "stdout",
          "text": [
            "Enter a year: 2023\n",
            "2023 : This is not a leap year\n"
          ]
        }
      ],
      "source": [
        "yr = int(input(\"Enter a year: \"))\n",
        "if ((yr % 4 == 0 and yr % 100 != 0) or yr % 400 == 0):\n",
        "    print(yr,':',\"This is a leap year\")\n",
        "else:\n",
        "    print(yr,':', \"This is not a leap year\")"
      ]
    },
    {
      "cell_type": "markdown",
      "source": [
        "**Q2) Write a Python program that prompts the user to input a word. The program should then determine and output the count of vowels (a, e, i, o, u) in the provided word. Additionally, consider that the word can be in either uppercase or lowercase.**"
      ],
      "metadata": {
        "id": "5h54B091Mx-1"
      }
    },
    {
      "cell_type": "code",
      "source": [
        "word=input(\"Enter a word:\")\n",
        "word=word.lower()\n",
        "print(word)\n",
        "count=0\n",
        "for i in word:\n",
        "    if i in ['a','e','i','o','u','A','E','I','O','U'] :\n",
        "        count+=1\n",
        "print(\"Number of vowels:\",count)"
      ],
      "metadata": {
        "colab": {
          "base_uri": "https://localhost:8080/",
          "height": 0
        },
        "id": "ZApr2b1gM1So",
        "outputId": "a8a7e5bf-7e29-430a-9d70-be3a4b5413b8"
      },
      "execution_count": 5,
      "outputs": [
        {
          "output_type": "stream",
          "name": "stdout",
          "text": [
            "Enter a word:ANIRUDDHan\n",
            "Number of vowels: 4\n"
          ]
        }
      ]
    },
    {
      "cell_type": "markdown",
      "source": [
        "**Q3) Write a Python program that allows the user to input a list of 6 names. After receiving the list, the program should print only the names that start with the letter 'a', regardless of whether the letter is uppercase or lowercase.**"
      ],
      "metadata": {
        "id": "e2EQzhwSNCUP"
      }
    },
    {
      "cell_type": "code",
      "source": [
        "names=[]\n",
        "n=int(input(\"Enter the number of names:\"))\n",
        "for i in range(n):\n",
        "    name=str(input(\"Enter a name:\"))\n",
        "    name=name.lower()\n",
        "    names.append(name)\n",
        "x=[]\n",
        "for j in names:\n",
        "    if j[0]=='a':\n",
        "        x.append(j)\n",
        "print(\"The names starting with letter 'a' are\",x)"
      ],
      "metadata": {
        "colab": {
          "base_uri": "https://localhost:8080/",
          "height": 0
        },
        "id": "eLPt8YUUNBw5",
        "outputId": "956bd310-7882-4ab6-ef5e-2161ac22fd85"
      },
      "execution_count": 14,
      "outputs": [
        {
          "output_type": "stream",
          "name": "stdout",
          "text": [
            "Enter the number of names:6\n",
            "Enter a name:alvin\n",
            "Enter a name:reigns\n",
            "Enter a name:ambrose\n",
            "Enter a name:rollins\n",
            "Enter a name:daniel\n",
            "Enter a name:bryan\n",
            "The names starting with letter 'a' are ['alvin', 'ambrose']\n"
          ]
        }
      ]
    },
    {
      "cell_type": "markdown",
      "source": [
        "**Q4) Write a Python program that takes a list of 10 integers as input. Your program should iterate through the list and print the following:\n",
        "For each even number encountered, print the number squared.\n",
        "For each odd number encountered, print the number cubed.**"
      ],
      "metadata": {
        "id": "1Yr5qPbkNRX1"
      }
    },
    {
      "cell_type": "code",
      "source": [
        "n=list()\n",
        "num = int(input(\"enter how many numbers for your problem \"))\n",
        "for i in range(num):\n",
        "  n1 = int(input(\"enter the number \"))\n",
        "  n.append(n1)\n",
        "for i in n:\n",
        "  if i%2==0:\n",
        "    print(i, \" is an even integer,Hence its square is: \", i**2)\n",
        "  else:\n",
        "    print(i,\" is an odd integer, Hence its cube is: \",i**3)"
      ],
      "metadata": {
        "colab": {
          "base_uri": "https://localhost:8080/",
          "height": 0
        },
        "id": "gGIWk2uHe6WG",
        "outputId": "49e3d446-9058-4768-fb95-ce91737fb5e2"
      },
      "execution_count": 19,
      "outputs": [
        {
          "output_type": "stream",
          "name": "stdout",
          "text": [
            "enter how many numbers for your problem 10\n",
            "enter the number 2\n",
            "enter the number 3\n",
            "enter the number 4\n",
            "enter the number 5\n",
            "enter the number 6\n",
            "enter the number 7\n",
            "enter the number 8\n",
            "enter the number 9\n",
            "enter the number 10\n",
            "enter the number 11\n",
            "2  is an even integer,Hence its square is:  4\n",
            "3  is an odd integer, Hence its cube is:  27\n",
            "4  is an even integer,Hence its square is:  16\n",
            "5  is an odd integer, Hence its cube is:  125\n",
            "6  is an even integer,Hence its square is:  36\n",
            "7  is an odd integer, Hence its cube is:  343\n",
            "8  is an even integer,Hence its square is:  64\n",
            "9  is an odd integer, Hence its cube is:  729\n",
            "10  is an even integer,Hence its square is:  100\n",
            "11  is an odd integer, Hence its cube is:  1331\n"
          ]
        }
      ]
    },
    {
      "cell_type": "markdown",
      "source": [
        "**Q5) Imagine you're ordering flowers from a local delivery service. They offer a selection of beautiful flowers, including roses. Each rose is priced at Rs. 10. Along with your choice of roses, you'll need to provide the count of roses you wish to order and the delivery distance. The delivery charges are as follows: Rs. 25 for distances within 5 kilometers, Rs. 50 for distances between 5 and 10 kilometers, and Rs. 75 for distances greater than 10 kilometers. Write a Python program that prompts the user to enter the count of roses and the delivery distance, then calculates and displays the total price to pay, including both the cost of roses and the delivery charge.**"
      ],
      "metadata": {
        "id": "VzNmZlloNo6I"
      }
    },
    {
      "cell_type": "code",
      "source": [
        "n = int(input(\"The number of roses the customer would like to order \"))\n",
        "s= str(input(\"Enter the choice of rose: \"))\n",
        "n1 = int(input(\"The delivery distance \"))\n",
        "price = 0\n",
        "if(n1==0):\n",
        "  price=n*10\n",
        "if(n1>0 and n1<5):\n",
        "  price = n*10 + 25\n",
        "elif(n1>=5 and n1<=10):\n",
        "  price = n*10 + 50\n",
        "elif (n1>10):\n",
        "  price = n*10 + 75\n",
        "print(\"Customer's choice of rose: \",s)\n",
        "print(\"Customer has to pay total price of :\",price, \"for the \",s, \"roses he ordered\")"
      ],
      "metadata": {
        "colab": {
          "base_uri": "https://localhost:8080/"
        },
        "id": "u0HdKY1Qg_xE",
        "outputId": "ff56925d-8d21-47dd-c71f-2888dad11216"
      },
      "execution_count": 39,
      "outputs": [
        {
          "output_type": "stream",
          "name": "stdout",
          "text": [
            "The number of roses the customer would like to order 10\n",
            "Enter the choice of rose: white\n",
            "The delivery distance 10\n",
            "Customer's choice of rose:  white\n",
            "Customer has to pay total price of : 150 for the  white roses he ordered\n"
          ]
        }
      ]
    },
    {
      "cell_type": "code",
      "source": [
        "n = int(input(\"The number of roses the customer would like to order \"))\n",
        "s= str(input(\"Enter the choice of rose: \"))\n",
        "n1 = int(input(\"The delivery distance \"))\n",
        "price = 0\n",
        "if(n1==0):\n",
        "  price=n*10\n",
        "if(n1>0 and n1<5):\n",
        "  price = n*10 + 25\n",
        "elif(n1>=5 and n1<=10):\n",
        "  price = n*10 + 50\n",
        "elif (n1>10):\n",
        "  price = n*10 + 75\n",
        "print(\"Customer's choice of rose: \",s)\n",
        "print(\"Customer has to pay total price of :\",price, \"for the \",s, \"roses he ordered\")"
      ],
      "metadata": {
        "colab": {
          "base_uri": "https://localhost:8080/"
        },
        "id": "LsC2OsF8h_ZC",
        "outputId": "b240e1de-b696-4b09-a69c-0c28421f3401"
      },
      "execution_count": 41,
      "outputs": [
        {
          "output_type": "stream",
          "name": "stdout",
          "text": [
            "The number of roses the customer would like to order 5\n",
            "Enter the choice of rose: red\n",
            "The delivery distance 8\n",
            "Customer's choice of rose:  red\n",
            "Customer has to pay total price of : 100 for the  red roses he ordered\n"
          ]
        }
      ]
    },
    {
      "cell_type": "code",
      "source": [],
      "metadata": {
        "id": "ovXXqNT1jYR_"
      },
      "execution_count": 27,
      "outputs": []
    }
  ]
}