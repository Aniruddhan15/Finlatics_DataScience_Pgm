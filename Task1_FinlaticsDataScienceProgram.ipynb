{
  "nbformat": 4,
  "nbformat_minor": 0,
  "metadata": {
    "colab": {
      "provenance": []
    },
    "kernelspec": {
      "name": "python3",
      "display_name": "Python 3"
    },
    "language_info": {
      "name": "python"
    }
  },
  "cells": [
    {
      "cell_type": "markdown",
      "source": [
        "\n",
        "\n",
        "\n",
        "\n",
        "\n",
        "* Name: Aniruddhan N\n",
        "* Program: Finlatics Data Science Experience/Internhip Program\n",
        "\n",
        "\n"
      ],
      "metadata": {
        "id": "BV3kSZsgIXZP"
      }
    },
    {
      "cell_type": "markdown",
      "source": [
        "# Q1) Write a Python program that takes user input for their name and greets the user. Then, prompt the user to enter two values. After receiving the values, swap them and print both the ordiginal values and the swapped values."
      ],
      "metadata": {
        "id": "JZVS6rCsB3UZ"
      }
    },
    {
      "cell_type": "code",
      "execution_count": 3,
      "metadata": {
        "colab": {
          "base_uri": "https://localhost:8080/"
        },
        "id": "nzL-MZSQBZDY",
        "outputId": "a4794de8-7f61-4534-c748-2ba6735643f0"
      },
      "outputs": [
        {
          "output_type": "stream",
          "name": "stdout",
          "text": [
            "Enter your name: Aniruddhan N\n",
            "Welcome to the Program\n",
            "Hello  Aniruddhan N\n",
            " Here is your first program you need to code for: \n",
            "Enter the first number: 39\n",
            "Enter the second number: 6990\n",
            "Original number 1: 39\n",
            "Original number 2: 6990\n",
            "Swapped Number 1: 6990\n",
            "Swapped Number 2: 39\n"
          ]
        }
      ],
      "source": [
        "# Prompt the user to enter their name and store it in the variable 'name'\n",
        "name = input(\"Enter your name: \")\n",
        "\n",
        "# Greet the user with their name\n",
        "print(\"Welcome to the Program\")\n",
        "print(\"Hello \",name)\n",
        "\n",
        "print(\" Here is your first program you need to code for: \")\n",
        "\n",
        "# Prompt the user to enter the first number and convert it to an integer\n",
        "num1 = int(input('Enter the first number: '))\n",
        "\n",
        "# Prompt the user to enter the second number and convert it to an integer\n",
        "num2 = int(input('Enter the second number: '))\n",
        "\n",
        "# Print the original values of num1 and num2\n",
        "print(\"Original number 1:\", num1)\n",
        "print(\"Original number 2:\", num2)\n",
        "\n",
        "# Swap the values of num1 and num2 using a temporary variable 'temp'\n",
        "temp = num1\n",
        "num1 = num2\n",
        "num2 = temp\n",
        "\n",
        "# Print the swapped values of num1 and num2\n",
        "print(\"Swapped Number 1:\", num1)\n",
        "print(\"Swapped Number 2:\", num2)"
      ]
    },
    {
      "cell_type": "code",
      "source": [
        "print(\"Well done\")\n",
        "print(\"Now onto your second program\")\n",
        "print(\"Here is your next question: \")"
      ],
      "metadata": {
        "colab": {
          "base_uri": "https://localhost:8080/"
        },
        "id": "Gba1Wl9hB2i-",
        "outputId": "1d517cf0-41f3-4c03-82fe-73f31d6d9f9b"
      },
      "execution_count": 4,
      "outputs": [
        {
          "output_type": "stream",
          "name": "stdout",
          "text": [
            "Well done\n",
            "Now onto your second program\n",
            "Here is your next question: \n"
          ]
        }
      ]
    },
    {
      "cell_type": "markdown",
      "source": [
        "# Q2) Write a Python program that asks the user to input the radius of a circle. Calculate the area of the circle using the formula area = π * radius^2, where π (pi) is a constant approximately equal to 3.14. Print out the calculated area. Ensure that the user input for the radius is converted to a float data type before performing calculations."
      ],
      "metadata": {
        "id": "g54bLHTLIQ2M"
      }
    },
    {
      "cell_type": "code",
      "source": [
        "radius=int(input(\"Enter radius of circle:\")) #input the radius\n",
        "radius = float(radius) #type conversion to float\n",
        "area=3.14*radius*radius #formula creation\n",
        "print(\"Area of circle is:\",area)  # printing the area of the cirle"
      ],
      "metadata": {
        "colab": {
          "base_uri": "https://localhost:8080/"
        },
        "id": "M3gMUu1mDM0t",
        "outputId": "d76d9254-b601-401c-861e-e6cb537f4ca3"
      },
      "execution_count": 5,
      "outputs": [
        {
          "output_type": "stream",
          "name": "stdout",
          "text": [
            "Enter radius of circle:5\n",
            "Area of circle is: 78.5\n"
          ]
        }
      ]
    },
    {
      "cell_type": "code",
      "source": [
        "print(\"Well done\")\n",
        "print(\"Moving to the 3rd program\")\n",
        "print(\"Here is your next question: \")"
      ],
      "metadata": {
        "colab": {
          "base_uri": "https://localhost:8080/"
        },
        "id": "__p1CUJWDhyY",
        "outputId": "ccd1a2f1-100c-4544-95f8-86e62a283195"
      },
      "execution_count": 6,
      "outputs": [
        {
          "output_type": "stream",
          "name": "stdout",
          "text": [
            "Well done\n",
            "Moving to the 3rd program\n",
            "Here is your next question: \n"
          ]
        }
      ]
    },
    {
      "cell_type": "markdown",
      "source": [
        "# Q3) Write a Python program where the user is prompted to input their birth year. The program should then calculate and display the user's current age."
      ],
      "metadata": {
        "id": "OFIOnAhmILna"
      }
    },
    {
      "cell_type": "code",
      "source": [
        "# Prompt the user to enter the birth year and birth month\n",
        "birth_year = int(input(\"Enter your birth year: \"))\n",
        "birth_month = int(input(\"Enter your birth month (1-12): \"))\n",
        "\n",
        "# Current year and month\n",
        "current_year = int(input(\"Enter the current ongoing year\"))\n",
        "current_month =  int(input(\"Enter the current month:\")) # Assuming the current month is June\n",
        "\n",
        "# Calculate the initial age based on year difference\n",
        "age = current_year - birth_year\n",
        "\n",
        "# Check if the birth year is in the future\n",
        "if birth_year > current_year:\n",
        "    print(\"You are not born yet\")\n",
        "else:\n",
        "    # Adjust age based on the month\n",
        "    if birth_month > current_month:\n",
        "        age -= 1\n",
        "        months = 12 - (birth_month - current_month)\n",
        "        print(f\"You are: {age} years and {months} months old\")\n",
        "    elif birth_month == current_month:\n",
        "        print(f\"You are: {age} years old\")\n",
        "    else:\n",
        "        months = current_month - birth_month\n",
        "        print(f\"You are: {age} years and {months} months old\")\n"
      ],
      "metadata": {
        "colab": {
          "base_uri": "https://localhost:8080/"
        },
        "id": "KBYaSkdvHrpf",
        "outputId": "88edaf30-4d31-487a-96a0-a23b8ba36c8a"
      },
      "execution_count": 7,
      "outputs": [
        {
          "output_type": "stream",
          "name": "stdout",
          "text": [
            "Enter your birth year: 2003\n",
            "Enter your birth month (1-12): 10\n",
            "Enter the current ongoing year2024\n",
            "Enter the current month:5\n",
            "You are: 20 years and 7 months old\n"
          ]
        }
      ]
    },
    {
      "cell_type": "code",
      "source": [
        "print(\"Well done\")\n",
        "print(\"Moving to the 4th program\")\n",
        "print(\"Here is your question:\")"
      ],
      "metadata": {
        "colab": {
          "base_uri": "https://localhost:8080/"
        },
        "id": "NcMRaUWqPPjF",
        "outputId": "4463d554-cf86-4273-fad7-788cb53ac07f"
      },
      "execution_count": 10,
      "outputs": [
        {
          "output_type": "stream",
          "name": "stdout",
          "text": [
            "Well done\n",
            "Moving to the 4th program\n",
            "Here is your question:\n"
          ]
        }
      ]
    },
    {
      "cell_type": "markdown",
      "source": [
        "# Q4) Imagine you're a bakery owner and you want to personalize messages for your customers.\n",
        "# Write a Python program where customers are prompted to input their name and favorite cake flavor. The program should then print a customized message saying: \"Hello, [name]! We're delighted to serve you your favorite [favorite_cake] cake on your birthday. Happy Birthday.\""
      ],
      "metadata": {
        "id": "n6LiRR6uJLv9"
      }
    },
    {
      "cell_type": "code",
      "source": [
        "name= input(\"Enter your name:\")\n",
        "favorite_cake=input(\"Enter your favorite cake flavour:\")\n",
        "print(f\"Hello {name}, We're delighted to serve you your favorite {favorite_cake} cake on your birthday. Happy Birthday!\")"
      ],
      "metadata": {
        "colab": {
          "base_uri": "https://localhost:8080/"
        },
        "id": "ZhN747dRJKQ4",
        "outputId": "3127da7f-281b-49fe-822c-5b3e43e513ea"
      },
      "execution_count": 9,
      "outputs": [
        {
          "output_type": "stream",
          "name": "stdout",
          "text": [
            "Enter your name:Aniruddhan\n",
            "Enter your favorite cake flavour:Butterscotch\n",
            "Hello Aniruddhan, We're delighted to serve you your favorite Butterscotch cake on your birthday. Happy Birthday!\n"
          ]
        }
      ]
    },
    {
      "cell_type": "code",
      "source": [
        "print(\"Well done\")\n",
        "print(\"Last but no the least\")\n",
        "print(\"Moving to the last and final program of the task 1\")\n",
        "print(\"Here is the question:\")"
      ],
      "metadata": {
        "colab": {
          "base_uri": "https://localhost:8080/"
        },
        "id": "1EXpzNK4Prjy",
        "outputId": "e8feae08-95c5-41ce-a345-9845f74c5b51"
      },
      "execution_count": 12,
      "outputs": [
        {
          "output_type": "stream",
          "name": "stdout",
          "text": [
            "Well done\n",
            "Last but no the least\n",
            "Moving to the last and final program of the task 1\n",
            "Here is the question:\n"
          ]
        }
      ]
    },
    {
      "cell_type": "markdown",
      "source": [
        "# Q5) Write a Python program to calculate the simple interest with user input for principal amount, rate, and time."
      ],
      "metadata": {
        "id": "_gs_A3ujP20z"
      }
    },
    {
      "cell_type": "code",
      "source": [
        "principal=float(input(\"Enter principal amount:\"))\n",
        "rate=float(input(\"Enter rate:\"))\n",
        "time=float(input(\"Enter time:\"))\n",
        "simple_interest=(principal*rate*time)/100\n",
        "print(\"Simple interest is:\",simple_interest)"
      ],
      "metadata": {
        "colab": {
          "base_uri": "https://localhost:8080/"
        },
        "id": "b6WljNjtPDkc",
        "outputId": "4e2c1509-2d19-446a-fcaf-a5c73bf2bb94"
      },
      "execution_count": 11,
      "outputs": [
        {
          "output_type": "stream",
          "name": "stdout",
          "text": [
            "Enter principal amount:3000\n",
            "Enter rate:4\n",
            "Enter time:5\n",
            "Simple interest is: 600.0\n"
          ]
        }
      ]
    },
    {
      "cell_type": "code",
      "source": [],
      "metadata": {
        "id": "aq22ALsPPh8u"
      },
      "execution_count": null,
      "outputs": []
    }
  ]
}